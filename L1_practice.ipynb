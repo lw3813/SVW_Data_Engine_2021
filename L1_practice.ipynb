{
 "cells": [
  {
   "cell_type": "code",
   "execution_count": 55,
   "metadata": {},
   "outputs": [
    {
     "data": {
      "text/plain": [
       "'\\nCreated on 2021/1/27\\n@author: Zhao Zhen\\n\\n'"
      ]
     },
     "execution_count": 55,
     "metadata": {},
     "output_type": "execute_result"
    }
   ],
   "source": [
    "# -*- coding: utf_8_sig -*-\n",
    "\"\"\"\n",
    "Created on 2021/1/27\n",
    "@author: Zhao Zhen\n",
    "\n",
    "\"\"\""
   ]
  },
  {
   "cell_type": "code",
   "execution_count": 57,
   "metadata": {},
   "outputs": [],
   "source": [
    "import numpy as np\n",
    "import pandas as pd"
   ]
  },
  {
   "cell_type": "markdown",
   "metadata": {},
   "source": [
    "### Action1：求2+4+6+8+...+100的求和，用Python该如何写"
   ]
  },
  {
   "cell_type": "code",
   "execution_count": 67,
   "metadata": {},
   "outputs": [
    {
     "data": {
      "text/plain": [
       "array([  2,   4,   6,   8,  10,  12,  14,  16,  18,  20,  22,  24,  26,\n",
       "        28,  30,  32,  34,  36,  38,  40,  42,  44,  46,  48,  50,  52,\n",
       "        54,  56,  58,  60,  62,  64,  66,  68,  70,  72,  74,  76,  78,\n",
       "        80,  82,  84,  86,  88,  90,  92,  94,  96,  98, 100])"
      ]
     },
     "execution_count": 67,
     "metadata": {},
     "output_type": "execute_result"
    }
   ],
   "source": [
    "data1 = np.arange(2,102,2)\n",
    "data1"
   ]
  },
  {
   "cell_type": "markdown",
   "metadata": {},
   "source": [
    "### method 1"
   ]
  },
  {
   "cell_type": "code",
   "execution_count": 68,
   "metadata": {},
   "outputs": [
    {
     "name": "stdout",
     "output_type": "stream",
     "text": [
      "2550\n"
     ]
    }
   ],
   "source": [
    "n = 0\n",
    "for i in data1:\n",
    "    n += i\n",
    "print(n)"
   ]
  },
  {
   "cell_type": "markdown",
   "metadata": {},
   "source": [
    "### method 2"
   ]
  },
  {
   "cell_type": "code",
   "execution_count": 3,
   "metadata": {},
   "outputs": [
    {
     "data": {
      "text/plain": [
       "2550"
      ]
     },
     "execution_count": 3,
     "metadata": {},
     "output_type": "execute_result"
    }
   ],
   "source": [
    "sum_data1 = np.sum(data1)\n",
    "sum_data1"
   ]
  },
  {
   "cell_type": "markdown",
   "metadata": {},
   "source": [
    "### Action2: 统计全班的成绩\n",
    "班里有5名同学，现在需要你用Python来统计下这些人在语文、英语、数学中的平均成绩、最小成绩、最大成绩、方差、标准差。然后把这些人的总成绩排序，得出名次进行成绩输出（可以用numpy或pandas）"
   ]
  },
  {
   "cell_type": "code",
   "execution_count": 4,
   "metadata": {},
   "outputs": [],
   "source": [
    "name_dic = {'张飞':[68,65,30],'关羽':[95,76,98],'刘备':[98,86,88],'典韦':[90,88,77],'许褚':[80,90,90]}\n",
    "column_name = ['语文','数学','英语']"
   ]
  },
  {
   "cell_type": "code",
   "execution_count": 5,
   "metadata": {},
   "outputs": [
    {
     "data": {
      "text/html": [
       "<div>\n",
       "<style scoped>\n",
       "    .dataframe tbody tr th:only-of-type {\n",
       "        vertical-align: middle;\n",
       "    }\n",
       "\n",
       "    .dataframe tbody tr th {\n",
       "        vertical-align: top;\n",
       "    }\n",
       "\n",
       "    .dataframe thead th {\n",
       "        text-align: right;\n",
       "    }\n",
       "</style>\n",
       "<table border=\"1\" class=\"dataframe\">\n",
       "  <thead>\n",
       "    <tr style=\"text-align: right;\">\n",
       "      <th></th>\n",
       "      <th>语文</th>\n",
       "      <th>数学</th>\n",
       "      <th>英语</th>\n",
       "    </tr>\n",
       "  </thead>\n",
       "  <tbody>\n",
       "    <tr>\n",
       "      <th>张飞</th>\n",
       "      <td>68</td>\n",
       "      <td>65</td>\n",
       "      <td>30</td>\n",
       "    </tr>\n",
       "    <tr>\n",
       "      <th>关羽</th>\n",
       "      <td>95</td>\n",
       "      <td>76</td>\n",
       "      <td>98</td>\n",
       "    </tr>\n",
       "    <tr>\n",
       "      <th>刘备</th>\n",
       "      <td>98</td>\n",
       "      <td>86</td>\n",
       "      <td>88</td>\n",
       "    </tr>\n",
       "    <tr>\n",
       "      <th>典韦</th>\n",
       "      <td>90</td>\n",
       "      <td>88</td>\n",
       "      <td>77</td>\n",
       "    </tr>\n",
       "    <tr>\n",
       "      <th>许褚</th>\n",
       "      <td>80</td>\n",
       "      <td>90</td>\n",
       "      <td>90</td>\n",
       "    </tr>\n",
       "  </tbody>\n",
       "</table>\n",
       "</div>"
      ],
      "text/plain": [
       "    语文  数学  英语\n",
       "张飞  68  65  30\n",
       "关羽  95  76  98\n",
       "刘备  98  86  88\n",
       "典韦  90  88  77\n",
       "许褚  80  90  90"
      ]
     },
     "execution_count": 5,
     "metadata": {},
     "output_type": "execute_result"
    }
   ],
   "source": [
    "data2 = pd.DataFrame(name_dic)\n",
    "data3 = data2.T\n",
    "data3.columns = column_name\n",
    "data3"
   ]
  },
  {
   "cell_type": "code",
   "execution_count": 6,
   "metadata": {},
   "outputs": [
    {
     "data": {
      "text/html": [
       "<div>\n",
       "<style scoped>\n",
       "    .dataframe tbody tr th:only-of-type {\n",
       "        vertical-align: middle;\n",
       "    }\n",
       "\n",
       "    .dataframe tbody tr th {\n",
       "        vertical-align: top;\n",
       "    }\n",
       "\n",
       "    .dataframe thead th {\n",
       "        text-align: right;\n",
       "    }\n",
       "</style>\n",
       "<table border=\"1\" class=\"dataframe\">\n",
       "  <thead>\n",
       "    <tr style=\"text-align: right;\">\n",
       "      <th></th>\n",
       "      <th>语文</th>\n",
       "      <th>数学</th>\n",
       "      <th>英语</th>\n",
       "    </tr>\n",
       "  </thead>\n",
       "  <tbody>\n",
       "    <tr>\n",
       "      <th>count</th>\n",
       "      <td>5.000000</td>\n",
       "      <td>5.000000</td>\n",
       "      <td>5.000000</td>\n",
       "    </tr>\n",
       "    <tr>\n",
       "      <th>mean</th>\n",
       "      <td>86.200000</td>\n",
       "      <td>81.000000</td>\n",
       "      <td>76.600000</td>\n",
       "    </tr>\n",
       "    <tr>\n",
       "      <th>std</th>\n",
       "      <td>12.255611</td>\n",
       "      <td>10.440307</td>\n",
       "      <td>27.107195</td>\n",
       "    </tr>\n",
       "    <tr>\n",
       "      <th>min</th>\n",
       "      <td>68.000000</td>\n",
       "      <td>65.000000</td>\n",
       "      <td>30.000000</td>\n",
       "    </tr>\n",
       "    <tr>\n",
       "      <th>25%</th>\n",
       "      <td>80.000000</td>\n",
       "      <td>76.000000</td>\n",
       "      <td>77.000000</td>\n",
       "    </tr>\n",
       "    <tr>\n",
       "      <th>50%</th>\n",
       "      <td>90.000000</td>\n",
       "      <td>86.000000</td>\n",
       "      <td>88.000000</td>\n",
       "    </tr>\n",
       "    <tr>\n",
       "      <th>75%</th>\n",
       "      <td>95.000000</td>\n",
       "      <td>88.000000</td>\n",
       "      <td>90.000000</td>\n",
       "    </tr>\n",
       "    <tr>\n",
       "      <th>max</th>\n",
       "      <td>98.000000</td>\n",
       "      <td>90.000000</td>\n",
       "      <td>98.000000</td>\n",
       "    </tr>\n",
       "  </tbody>\n",
       "</table>\n",
       "</div>"
      ],
      "text/plain": [
       "              语文         数学         英语\n",
       "count   5.000000   5.000000   5.000000\n",
       "mean   86.200000  81.000000  76.600000\n",
       "std    12.255611  10.440307  27.107195\n",
       "min    68.000000  65.000000  30.000000\n",
       "25%    80.000000  76.000000  77.000000\n",
       "50%    90.000000  86.000000  88.000000\n",
       "75%    95.000000  88.000000  90.000000\n",
       "max    98.000000  90.000000  98.000000"
      ]
     },
     "execution_count": 6,
     "metadata": {},
     "output_type": "execute_result"
    }
   ],
   "source": [
    "data3.describe()"
   ]
  },
  {
   "cell_type": "code",
   "execution_count": 7,
   "metadata": {},
   "outputs": [
    {
     "data": {
      "text/html": [
       "<div>\n",
       "<style scoped>\n",
       "    .dataframe tbody tr th:only-of-type {\n",
       "        vertical-align: middle;\n",
       "    }\n",
       "\n",
       "    .dataframe tbody tr th {\n",
       "        vertical-align: top;\n",
       "    }\n",
       "\n",
       "    .dataframe thead th {\n",
       "        text-align: right;\n",
       "    }\n",
       "</style>\n",
       "<table border=\"1\" class=\"dataframe\">\n",
       "  <thead>\n",
       "    <tr style=\"text-align: right;\">\n",
       "      <th></th>\n",
       "      <th>语文</th>\n",
       "      <th>数学</th>\n",
       "      <th>英语</th>\n",
       "      <th>tot</th>\n",
       "    </tr>\n",
       "  </thead>\n",
       "  <tbody>\n",
       "    <tr>\n",
       "      <th>张飞</th>\n",
       "      <td>68</td>\n",
       "      <td>65</td>\n",
       "      <td>30</td>\n",
       "      <td>163</td>\n",
       "    </tr>\n",
       "    <tr>\n",
       "      <th>典韦</th>\n",
       "      <td>90</td>\n",
       "      <td>88</td>\n",
       "      <td>77</td>\n",
       "      <td>255</td>\n",
       "    </tr>\n",
       "    <tr>\n",
       "      <th>许褚</th>\n",
       "      <td>80</td>\n",
       "      <td>90</td>\n",
       "      <td>90</td>\n",
       "      <td>260</td>\n",
       "    </tr>\n",
       "    <tr>\n",
       "      <th>关羽</th>\n",
       "      <td>95</td>\n",
       "      <td>76</td>\n",
       "      <td>98</td>\n",
       "      <td>269</td>\n",
       "    </tr>\n",
       "    <tr>\n",
       "      <th>刘备</th>\n",
       "      <td>98</td>\n",
       "      <td>86</td>\n",
       "      <td>88</td>\n",
       "      <td>272</td>\n",
       "    </tr>\n",
       "  </tbody>\n",
       "</table>\n",
       "</div>"
      ],
      "text/plain": [
       "    语文  数学  英语  tot\n",
       "张飞  68  65  30  163\n",
       "典韦  90  88  77  255\n",
       "许褚  80  90  90  260\n",
       "关羽  95  76  98  269\n",
       "刘备  98  86  88  272"
      ]
     },
     "execution_count": 7,
     "metadata": {},
     "output_type": "execute_result"
    }
   ],
   "source": [
    "data3['tot'] = data3.sum(axis= 1)  #计算总成绩\n",
    "data3.sort_values('tot')"
   ]
  },
  {
   "cell_type": "markdown",
   "metadata": {},
   "source": [
    "### Action3: 对汽车质量数据进行统计\n",
    "数据集：car_complain.csv\n",
    "600条汽车质量投诉<br>\n",
    "Step1，数据加载<br>\n",
    "Step2，数据预处理\n",
    "拆分problem类型 => 多个字段<br>\n",
    "Step3，数据统计\n",
    "对数据进行探索：<strong>品牌投诉总数，车型投诉总数\n",
    "哪个品牌的平均车型投诉最多</strong>"
   ]
  },
  {
   "cell_type": "code",
   "execution_count": 105,
   "metadata": {
    "scrolled": false
   },
   "outputs": [
    {
     "name": "stdout",
     "output_type": "stream",
     "text": [
      "(           sum\n",
      "brand         \n",
      "一汽马自达      193\n",
      "吉利汽车       192\n",
      "一汽大众        89\n",
      "上汽大众        57\n",
      "北京现代        40\n",
      "一汽大众奥迪      32\n",
      "东风日产        30\n",
      "奇瑞汽车        25\n",
      "上汽集团        25\n",
      "众泰汽车        25\n",
      "广汽丰田        24\n",
      "上汽斯柯达       22\n",
      "东风标致        20\n",
      "长城汽车        19\n",
      "一汽丰田        19\n",
      "广汽三菱        18\n",
      "上汽通用五菱      16\n",
      "奔驰（进口）      13\n",
      "江淮汽车        13\n",
      "东风雪铁龙       12\n",
      "广汽本田        12\n",
      "长安马自达       10\n",
      "长安汽车        10\n",
      "一汽奔腾        10\n",
      "吉利新能源        9\n",
      "东风本田         8\n",
      "华晨宝马         8\n",
      "北京汽车         7\n",
      "星途           7\n",
      "北京奔驰         7\n",
      "...        ...\n",
      "玛莎拉蒂         3\n",
      "北汽新能源        3\n",
      "奇瑞捷豹路虎       3\n",
      "宝沃汽车         3\n",
      "江铃汽车         2\n",
      "雷克萨斯         2\n",
      "长安铃木         2\n",
      "一汽解放         2\n",
      "长安标致雪铁龙DS    2\n",
      "东风裕隆         2\n",
      "观致汽车         2\n",
      "福田汽车         2\n",
      "猎豹汽车         2\n",
      "东风风行         2\n",
      "林肯（进口）       2\n",
      "力帆汽车         2\n",
      "东南汽车         2\n",
      "天津一汽         2\n",
      "奇瑞新能源        1\n",
      "奥迪（进口）       1\n",
      "凯翼汽车         1\n",
      "沃尔沃（进口）      1\n",
      "多士星          1\n",
      "东风小康         1\n",
      "比亚迪          1\n",
      "绵阳金杯         1\n",
      "开瑞汽车         1\n",
      "北汽昌河         1\n",
      "一汽红旗         1\n",
      "沃尔沃亚太        1\n",
      "\n",
      "[74 rows x 1 columns],            sum\n",
      "car_model     \n",
      "阿特兹        152\n",
      "星越          92\n",
      "马自达CX-4     41\n",
      "速腾          33\n",
      "迈腾          22\n",
      "缤越          21\n",
      "博越          21\n",
      "帝豪          17\n",
      "途胜          17\n",
      "逍客          16\n",
      "凌渡          16\n",
      "朗逸          15\n",
      "嘉际          14\n",
      "凯美瑞         14\n",
      "奥迪A4L       13\n",
      "探岳          13\n",
      "捷达VS5       12\n",
      "速派          12\n",
      "领动          12\n",
      "欧蓝德         11\n",
      "博瑞          10\n",
      "标致408       10\n",
      "雪铁龙C4L       9\n",
      "帝豪GL         9\n",
      "奥迪A6L        8\n",
      "马自达3 昂克赛拉    8\n",
      "瑞虎8          8\n",
      "途观L          8\n",
      "天籁           7\n",
      "途安           7\n",
      "...        ...\n",
      "特顺新能源        1\n",
      "时代金刚         1\n",
      "昊锐           1\n",
      "江淮iEV6E      1\n",
      "昌河M70        1\n",
      "智尚S30        1\n",
      "比亚迪F0        1\n",
      "欧马可          1\n",
      "桑塔纳          1\n",
      "柯迪亚克GT       1\n",
      "柳特           1\n",
      "宝骏630        1\n",
      "皓影           1\n",
      "宝骏530        1\n",
      "荣威Ei5        1\n",
      "远景           1\n",
      "奥迪Q5L        1\n",
      "迈威           1\n",
      "起亚K3         1\n",
      "奥迪Q7         1\n",
      "荣威RX8        1\n",
      "宝沃BX7        1\n",
      "睿骋CC         1\n",
      "宝马6系GT       1\n",
      "维特拉          1\n",
      "红旗HS5        1\n",
      "索纳塔八         1\n",
      "箱货           1\n",
      "宝骏360        1\n",
      "解放J6P        1\n",
      "\n",
      "[212 rows x 1 columns],           sum\n",
      "brand        \n",
      "一汽马自达    96.5\n",
      "吉利汽车     19.2\n",
      "一汽大众     12.7\n",
      "广汽三菱      9.0\n",
      "广汽丰田      8.0\n",
      "东风日产      6.0\n",
      "北京现代      5.7\n",
      "上汽大众      5.7\n",
      "一汽大众奥迪    5.3\n",
      "奇瑞汽车      5.0\n",
      "华晨中华      5.0\n",
      "东风雷诺      5.0\n",
      "长安马自达     5.0\n",
      "奔驰（进口）    4.3\n",
      "华晨鑫源      4.0\n",
      "东风雪铁龙     4.0\n",
      "上汽斯柯达     3.7\n",
      "上汽集团      3.6\n",
      "北京汽车      3.5\n",
      "大众（进口）    3.5\n",
      "南京依维柯     3.5\n",
      "星途        3.5\n",
      "东风标致      3.3\n",
      "一汽丰田      3.2\n",
      "众泰汽车      3.1\n",
      "北汽新能源     3.0\n",
      "玛莎拉蒂      3.0\n",
      "广汽本田      3.0\n",
      "吉利新能源     3.0\n",
      "东风英菲尼迪    3.0\n",
      "...       ...\n",
      "东风乘用车     2.0\n",
      "汉腾汽车      2.0\n",
      "天津一汽      2.0\n",
      "一汽吉林      2.0\n",
      "东风风行      2.0\n",
      "东风悦达起亚    2.0\n",
      "东风本田      2.0\n",
      "上汽通用五菱    1.8\n",
      "宝马（进口）    1.5\n",
      "奇瑞捷豹路虎    1.5\n",
      "宝沃汽车      1.5\n",
      "福田汽车      1.0\n",
      "北汽昌河      1.0\n",
      "绵阳金杯      1.0\n",
      "长安铃木      1.0\n",
      "雷克萨斯      1.0\n",
      "力帆汽车      1.0\n",
      "开瑞汽车      1.0\n",
      "沃尔沃（进口）   1.0\n",
      "沃尔沃亚太     1.0\n",
      "江铃汽车      1.0\n",
      "比亚迪       1.0\n",
      "一汽红旗      1.0\n",
      "凯翼汽车      1.0\n",
      "奥迪（进口）    1.0\n",
      "东南汽车      1.0\n",
      "奇瑞新能源     1.0\n",
      "东风小康      1.0\n",
      "多士星       1.0\n",
      "一汽解放      1.0\n",
      "\n",
      "[74 rows x 1 columns])\n"
     ]
    }
   ],
   "source": [
    "def data_load(path):\n",
    "    data = pd.read_csv(path)\n",
    "    return data\n",
    "\n",
    "def data_clean(data):\n",
    "    data = data.drop('problem',axis=1).join(data['problem'].str.get_dummies(','))#拆分problem字段\n",
    "    data['brand']=data['brand'].str.replace('一汽-大众','一汽大众')\n",
    "    return data\n",
    "\n",
    "def data_computing(data):\n",
    "    problems = data[data.columns[7:]]\n",
    "    problems_count = problems.sum(axis = 1)    \n",
    "    data['problem_count'] = problems_count\n",
    "    data_brand_sum = data.groupby(['brand'])['problem_count'].agg(['sum']).sort_values('sum',ascending=False)\n",
    "    data_carModel_sum = data.groupby(['car_model'])['problem_count'].agg(['sum']).sort_values('sum',ascending=False)  \n",
    "    data_brand_mean = data.groupby(['brand','car_model'])['problem_count'].agg(['sum']).groupby(['brand']).mean().sort_values('sum', ascending = False)\n",
    "    data_brand_mean['sum'] = data_brand_mean['sum'].apply(lambda x : ('%.1f') % x)\n",
    "#     data_brand_mean = data_brand_mean.apply(lambda x : ('%.1f') % x) \n",
    "#     data_brand_mean = data.groupby(['brand'])['car_model'].agg(np.mean).apply(lambda x : ('%.1f') % x)  #给平均数这一列取2位小数\n",
    "    result = data_brand_sum , data_carModel_sum ,data_brand_mean\n",
    "    print(result)\n",
    "#     return data_brand_sum,data_carModel_sum,data_brand_mean\n",
    "\n",
    "def main():\n",
    "    path = r'.\\car_complain.csv'\n",
    "    data = data_load(path)\n",
    "    # data.head()\n",
    "    data =data_clean(data)\n",
    "    data_computing(data)\n",
    "if __name__ == '__main__':\n",
    "    main()"
   ]
  }
 ],
 "metadata": {
  "kernelspec": {
   "display_name": "Python 3",
   "language": "python",
   "name": "python3"
  },
  "language_info": {
   "codemirror_mode": {
    "name": "ipython",
    "version": 3
   },
   "file_extension": ".py",
   "mimetype": "text/x-python",
   "name": "python",
   "nbconvert_exporter": "python",
   "pygments_lexer": "ipython3",
   "version": "3.7.3"
  }
 },
 "nbformat": 4,
 "nbformat_minor": 2
}
